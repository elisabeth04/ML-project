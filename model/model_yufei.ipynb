{
 "cells": [
  {
   "cell_type": "code",
   "execution_count": 1,
   "metadata": {},
   "outputs": [],
   "source": [
    "import numpy\n",
    "import tensorflow as tf\n",
    "from tensorflow.keras.models import Model\n",
    "from tensorflow.keras.layers import LSTM, Input, Embedding\n",
    "import tensorflow_addons as tfa\n",
    "from tensorflow_addons.seq2seq import AttentionWrapper\n"
   ]
  },
  {
   "cell_type": "markdown",
   "metadata": {},
   "source": [
    "In this notebook we build up the Encoder-Decoder architecture using LSTM model. "
   ]
  },
  {
   "cell_type": "code",
   "execution_count": null,
   "metadata": {},
   "outputs": [],
   "source": [
    "max_len = 200\n",
    "x_num_words = 200\n",
    "y_num_words = 40\n",
    "hidden_size = 100\n",
    "\n",
    "\n",
    "encoder_input = Input(shape=(max_len, ))\n",
    "enc_emb = Embedding(input_dim=x_num_words, output_dim=100)(encoder_input)\n",
    "\n",
    "encoder = LSTM(hidden_size, return_sequences=True, return_state=True)\n",
    "encoder_output, state_h, state_c = encoder(enc_emb)\n",
    "\n",
    "decoder_input = Input(shape=(None, ))\n",
    "dec_emb = Embedding(input_dim = y_num_words, )(decoder_input)\n",
    "\n",
    "decoder = LSTM(hidden_size, return_sequences=True, return_state=True)\n",
    "decoder_output, state_h, state_c = decoder(dec_emb, initial_state=[state_h, state_c])\n",
    "\n",
    "attention = AttentionWrapper()\n",
    "\n",
    "model = Model()"
   ]
  }
 ],
 "metadata": {
  "interpreter": {
   "hash": "3178247cc48992b12ba64927e20c59f571f89d7cdae0a2d20a1a75a447d363b0"
  },
  "kernelspec": {
   "display_name": "CSE204",
   "language": "python",
   "name": "cse204"
  },
  "language_info": {
   "codemirror_mode": {
    "name": "ipython",
    "version": 3
   },
   "file_extension": ".py",
   "mimetype": "text/x-python",
   "name": "python",
   "nbconvert_exporter": "python",
   "pygments_lexer": "ipython3",
   "version": "3.8.8"
  },
  "orig_nbformat": 4
 },
 "nbformat": 4,
 "nbformat_minor": 2
}
