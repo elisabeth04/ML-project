{
 "cells": [
  {
   "cell_type": "code",
   "execution_count": 1,
   "metadata": {},
   "outputs": [],
   "source": [
    "import numpy as np\n",
    "import os\n",
    "from nltk.corpus import stopwords\n",
    "from nltk.tokenize import sent_tokenize, word_tokenize\n",
    "import re\n",
    "import pandas as pd\n",
    "import matplotlib.pyplot as plt\n",
    "import tensorflow as tf\n",
    "from keras.preprocessing.text import Tokenizer\n",
    "from tensorflow.keras.models import Model\n",
    "from tensorflow.keras.layers import LSTM, Input, Embedding\n",
    "import tensorflow_addons as tfa\n",
    "from tensorflow_addons.seq2seq import AttentionWrapper\n"
   ]
  },
  {
   "cell_type": "code",
   "execution_count": 3,
   "metadata": {},
   "outputs": [],
   "source": [
    "stop_words = set(stopwords.words('english'))\n",
    "\n",
    "def split_data(lines):\n",
    "    for i in range(len(lines)):\n",
    "        if lines[i][0] == '\\n':\n",
    "            summary = lines[:i]\n",
    "            lines = lines[i:]\n",
    "            return summary, lines\n",
    "\n",
    "def split_string(lines):\n",
    "    sent_tokens = []\n",
    "    for line in lines:\n",
    "        line = re.sub(\"\\n\", \"\", line)\n",
    "        for sent in sent_tokenize(line):\n",
    "            sent_tokens.append(sent)\n",
    "    return sent_tokens\n",
    "\n",
    "def split_summary(lines):\n",
    "    sent_tokens = [\"_START_\"]\n",
    "    for line in lines:\n",
    "        line = re.sub(\"\\n\", \"\", line)\n",
    "        #line = \" \".join([\"_START_\", line, \"_END_\"])\n",
    "        for sent in sent_tokenize(line):\n",
    "            sent_tokens.append(sent)\n",
    "    sent_tokens.append(\"_END_\")\n",
    "    return sent_tokens\n",
    "\n",
    "def clean(string):\n",
    "    word_tokens = word_tokenize(string)\n",
    "    filtered_sentence = [w for w in word_tokens if (not w in stop_words) and (len(w)>3)]\n",
    "    return filtered_sentence "
   ]
  },
  {
   "cell_type": "code",
   "execution_count": 7,
   "metadata": {},
   "outputs": [],
   "source": [
    "text_overall, summary_overall  = [], []\n",
    "text_count, summary_count = [], []\n",
    "\n",
    "directory = '../data'\n",
    "for filename in os.listdir(directory):\n",
    "    with open('../data/'+filename) as f:\n",
    "        lines = f.readlines()\n",
    "        f.close()\n",
    "\n",
    "        summary, lines = split_data(lines)\n",
    "        summary, lines = split_summary(summary), split_string(lines)\n",
    "\n",
    "        clean_text = []\n",
    "        tex_count = 0\n",
    "        for line in lines:\n",
    "            temp = clean(line)\n",
    "            if temp != []:\n",
    "                tex_count += (len(temp))\n",
    "                for t in temp:\n",
    "                    clean_text.append(t)  \n",
    "        text_overall.append(clean_text)\n",
    "        text_count.append(tex_count)\n",
    "\n",
    "        clean_summary = []\n",
    "        sum_count = 0\n",
    "        for line in summary:\n",
    "            temp = clean(line)\n",
    "            if temp != []:\n",
    "                sum_count+= (len(temp))\n",
    "                for t in temp:\n",
    "                    clean_summary.append(t)\n",
    "        summary_overall.append(clean_summary)\n",
    "        summary_count.append(sum_count)"
   ]
  },
  {
   "cell_type": "code",
   "execution_count": 8,
   "metadata": {},
   "outputs": [
    {
     "data": {
      "image/png": "[encoded data removed]",
      "text/plain": [
       "<Figure size 432x288 with 2 Axes>"
      ]
     },
     "metadata": {
      "needs_background": "light"
     },
     "output_type": "display_data"
    }
   ],
   "source": [
    "overview = pd.DataFrame({'text':text_count, 'summary':summary_count})\n",
    "overview.hist(bins=30)\n",
    "plt.show()"
   ]
  },
  {
   "cell_type": "markdown",
   "metadata": {},
   "source": [
    "In this notebook we build up the Encoder-Decoder architecture using LSTM model. "
   ]
  },
  {
   "cell_type": "code",
   "execution_count": 9,
   "metadata": {},
   "outputs": [
    {
     "ename": "TypeError",
     "evalue": "__init__() missing 1 required positional argument: 'output_dim'",
     "output_type": "error",
     "traceback": [
      "\u001b[0;31m---------------------------------------------------------------------------\u001b[0m",
      "\u001b[0;31mTypeError\u001b[0m                                 Traceback (most recent call last)",
      "\u001b[0;32m<ipython-input-9-628fb052bc8b>\u001b[0m in \u001b[0;36m<module>\u001b[0;34m\u001b[0m\n\u001b[1;32m     12\u001b[0m \u001b[0;34m\u001b[0m\u001b[0m\n\u001b[1;32m     13\u001b[0m \u001b[0mdecoder_input\u001b[0m \u001b[0;34m=\u001b[0m \u001b[0mInput\u001b[0m\u001b[0;34m(\u001b[0m\u001b[0mshape\u001b[0m\u001b[0;34m=\u001b[0m\u001b[0;34m(\u001b[0m\u001b[0;32mNone\u001b[0m\u001b[0;34m,\u001b[0m \u001b[0;34m)\u001b[0m\u001b[0;34m)\u001b[0m\u001b[0;34m\u001b[0m\u001b[0;34m\u001b[0m\u001b[0m\n\u001b[0;32m---> 14\u001b[0;31m \u001b[0mdec_emb\u001b[0m \u001b[0;34m=\u001b[0m \u001b[0mEmbedding\u001b[0m\u001b[0;34m(\u001b[0m\u001b[0minput_dim\u001b[0m \u001b[0;34m=\u001b[0m \u001b[0my_num_words\u001b[0m\u001b[0;34m,\u001b[0m \u001b[0;34m)\u001b[0m\u001b[0;34m(\u001b[0m\u001b[0mdecoder_input\u001b[0m\u001b[0;34m)\u001b[0m\u001b[0;34m\u001b[0m\u001b[0;34m\u001b[0m\u001b[0m\n\u001b[0m\u001b[1;32m     15\u001b[0m \u001b[0;34m\u001b[0m\u001b[0m\n\u001b[1;32m     16\u001b[0m \u001b[0mdecoder\u001b[0m \u001b[0;34m=\u001b[0m \u001b[0mLSTM\u001b[0m\u001b[0;34m(\u001b[0m\u001b[0mhidden_size\u001b[0m\u001b[0;34m,\u001b[0m \u001b[0mreturn_sequences\u001b[0m\u001b[0;34m=\u001b[0m\u001b[0;32mTrue\u001b[0m\u001b[0;34m,\u001b[0m \u001b[0mreturn_state\u001b[0m\u001b[0;34m=\u001b[0m\u001b[0;32mTrue\u001b[0m\u001b[0;34m)\u001b[0m\u001b[0;34m\u001b[0m\u001b[0;34m\u001b[0m\u001b[0m\n",
      "\u001b[0;31mTypeError\u001b[0m: __init__() missing 1 required positional argument: 'output_dim'"
     ]
    }
   ],
   "source": [
    "max_len = 200\n",
    "x_num_words = 200\n",
    "y_num_words = 40\n",
    "hidden_size = 100\n",
    "\n",
    "\n",
    "encoder_input = Input(shape=(max_len, ))\n",
    "enc_emb = Embedding(input_dim=x_num_words, output_dim=100)(encoder_input)\n",
    "\n",
    "encoder = LSTM(hidden_size, return_sequences=True, return_state=True)\n",
    "encoder_output, state_h, state_c = encoder(enc_emb)\n",
    "\n",
    "decoder_input = Input(shape=(None, ))\n",
    "dec_emb = Embedding(input_dim = y_num_words, output_dim=)(decoder_input)\n",
    "\n",
    "decoder = LSTM(hidden_size, return_sequences=True, return_state=True)\n",
    "decoder_output, state_h, state_c = decoder(dec_emb, initial_state=[state_h, state_c])\n",
    "\n",
    "attention = AttentionWrapper()\n",
    "\n",
    "model = Model()"
   ]
  }
 ],
 "metadata": {
  "interpreter": {
   "hash": "3178247cc48992b12ba64927e20c59f571f89d7cdae0a2d20a1a75a447d363b0"
  },
  "kernelspec": {
   "display_name": "CSE204",
   "language": "python",
   "name": "cse204"
  },
  "language_info": {
   "codemirror_mode": {
    "name": "ipython",
    "version": 3
   },
   "file_extension": ".py",
   "mimetype": "text/x-python",
   "name": "python",
   "nbconvert_exporter": "python",
   "pygments_lexer": "ipython3",
   "version": "3.8.8"
  },
  "orig_nbformat": 4
 },
 "nbformat": 4,
 "nbformat_minor": 2
}
