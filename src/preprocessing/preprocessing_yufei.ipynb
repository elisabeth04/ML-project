{
 "cells": [
  {
   "cell_type": "markdown",
   "metadata": {},
   "source": [
    "# Preprocessing Data\n",
    "## Import Dependencies"
   ]
  },
  {
   "cell_type": "code",
   "execution_count": 10,
   "metadata": {},
   "outputs": [
    {
     "name": "stderr",
     "output_type": "stream",
     "text": [
      "[nltk_data] Downloading package stopwords to /Users/yao/nltk_data...\n",
      "[nltk_data]   Unzipping corpora/stopwords.zip.\n"
     ]
    },
    {
     "data": {
      "text/plain": [
       "True"
      ]
     },
     "execution_count": 10,
     "metadata": {},
     "output_type": "execute_result"
    }
   ],
   "source": [
    "import numpy as np\n",
    "import os\n",
    "from nltk.corpus import stopwords\n",
    "from nltk.tokenize import sent_tokenize, word_tokenize\n",
    "from keras.preprocessing.text import Tokenizer\n",
    "from keras.preprocessing.sequence import pad_sequences\n",
    "from sklearn.model_selection import train_test_split\n",
    "import re\n",
    "import pandas as pd\n",
    "import matplotlib.pyplot as plt\n",
    "import nltk\n",
    "nltk.download('stopwords')"
   ]
  },
  {
   "cell_type": "markdown",
   "metadata": {},
   "source": [
    "## Import test sample "
   ]
  },
  {
   "cell_type": "code",
   "execution_count": 5,
   "metadata": {},
   "outputs": [],
   "source": [
    "with open('../../data/Wireless_network.txt') as f:\n",
    "    lines = f.readlines()\n",
    "    f.close()"
   ]
  },
  {
   "cell_type": "markdown",
   "metadata": {},
   "source": [
    "# Tokenization and Cleaning\n",
    "Below we tokenize the articles using some of the nltk libraries."
   ]
  },
  {
   "cell_type": "code",
   "execution_count": null,
   "metadata": {},
   "outputs": [],
   "source": [
    "stop_words = set(stopwords.words('english'))\n",
    "\n",
    "def split_data(lines): \n",
    "    \"\"\"splits the summary from the body and names the body lines\"\"\"\n",
    "    for i in range(len(lines)):\n",
    "        if lines[i][0] == '\\n':\n",
    "            summary = lines[:i]\n",
    "            lines = lines[i:]\n",
    "            return summary, lines\n",
    "\n",
    "def split_string(lines):\n",
    "    sent_tokens = []\n",
    "    for line in lines:\n",
    "        line = re.sub(\"\\n\", \"\", line)\n",
    "        line = re.sub(\"\\\\\\\\.\", \"\", line)\n",
    "        line = re.sub(\"===\", \"\", line)\n",
    "        for sent in sent_tokenize(line):\n",
    "            sent_tokens.append(sent)\n",
    "    return sent_tokens\n",
    "\n",
    "def split_summary(lines):\n",
    "    sent_tokens = [\"_START_\"]\n",
    "    for line in lines:\n",
    "        line = re.sub(\"\\n\", \"\", line)\n",
    "        line = re.sub(\"\\\\\\\\.\", \"\", line)\n",
    "        line = re.sub(\"===\", \"\", line)\n",
    "        line = \" \".join([\"_START_\", line, \"_END_\"])\n",
    "        for sent in sent_tokenize(line):\n",
    "            sent_tokens.append(sent)\n",
    "    sent_tokens.append(\"_END_\")\n",
    "    return sent_tokens\n",
    "\n",
    "def clean(string):\n",
    "    word_tokens = word_tokenize(string)\n",
    "    filtered_sentence = [w for w in word_tokens if (not w in stop_words) and (len(w)>3)]\n",
    "    return filtered_sentence "
   ]
  },
  {
   "cell_type": "code",
   "execution_count": 19,
   "metadata": {},
   "outputs": [
    {
     "data": {
      "text/plain": [
       "['understood', 'sentence']"
      ]
     },
     "execution_count": 19,
     "metadata": {},
     "output_type": "execute_result"
    }
   ],
   "source": [
    "clean(\"I haven't understood this sentence\")"
   ]
  },
  {
   "cell_type": "code",
   "execution_count": 12,
   "metadata": {},
   "outputs": [],
   "source": [
    "summary, lines = split_data(lines)"
   ]
  },
  {
   "cell_type": "code",
   "execution_count": 13,
   "metadata": {},
   "outputs": [],
   "source": [
    "summary, lines = split_string(summary), split_string(lines)"
   ]
  },
  {
   "cell_type": "markdown",
   "metadata": {},
   "source": [
    "## We find the most suitable maximal length in this article \n",
    "We do this to not have to not have an overly large dataset."
   ]
  },
  {
   "cell_type": "code",
   "execution_count": 14,
   "metadata": {},
   "outputs": [
    {
     "name": "stdout",
     "output_type": "stream",
     "text": [
      "[87, 212, 136, 273, 37, 105, 43, 142, 125, 184]\n",
      "[284, 4648, 2747, 744, 229, 1902, 3907, 830, 4687, 2030]\n",
      "(64,) 64\n"
     ]
    },
    {
     "name": "stderr",
     "output_type": "stream",
     "text": [
      "<ipython-input-14-62060aa2f0e9>:37: VisibleDeprecationWarning: Creating an ndarray from ragged nested sequences (which is a list-or-tuple of lists-or-tuples-or ndarrays with different lengths or shapes) is deprecated. If you meant to do this, you must specify 'dtype=object' when creating the ndarray.\n",
      "  print(np.array(text_overall).shape, len(summary_overall))\n"
     ]
    },
    {
     "data": {
      "image/png": "[encoded data removed]",
      "text/plain": [
       "<Figure size 432x288 with 2 Axes>"
      ]
     },
     "metadata": {
      "needs_background": "light"
     },
     "output_type": "display_data"
    }
   ],
   "source": [
    "text_overall, summary_overall  = [], []\n",
    "text_count, summary_count = [], []\n",
    "\n",
    "directory = '../../data'\n",
    "for filename in os.listdir(directory):\n",
    "    with open('../../data/'+filename) as f:\n",
    "        lines = f.readlines()\n",
    "        f.close()\n",
    "\n",
    "        summary, lines = split_data(lines)\n",
    "        summary, lines = split_summary(summary), split_string(lines)\n",
    "\n",
    "        clean_text = []\n",
    "        tex_count = 0\n",
    "        for line in lines:\n",
    "            temp = clean(line)\n",
    "            if temp != []:\n",
    "                tex_count += (len(temp))\n",
    "                for t in temp:\n",
    "                    clean_text.append(t)  \n",
    "        text_overall.append(clean_text)\n",
    "        text_count.append(tex_count)\n",
    "\n",
    "        clean_summary = []\n",
    "        sum_count = 0\n",
    "        for line in summary:\n",
    "            temp = clean(line)\n",
    "            if temp != []:\n",
    "                sum_count+= (len(temp))\n",
    "                for t in temp:\n",
    "                    clean_summary.append(t)\n",
    "        summary_overall.append(clean_summary)\n",
    "        summary_count.append(sum_count)\n",
    "        \n",
    "print(summary_count[:10])\n",
    "print(text_count[:10])\n",
    "print(np.array(text_overall).shape, len(summary_overall))\n",
    "overview = pd.DataFrame({'text':text_count, 'summary':summary_count})\n",
    "overview.hist(bins=30)\n",
    "plt.show()"
   ]
  },
  {
   "cell_type": "markdown",
   "metadata": {},
   "source": [
    "## Store sentence vectors:\n",
    "We store a matrix of sentence vectors where each sentence is a vector and within each index stores the and index in the dictionary corresponding to the word.\n",
    "The end of the sequences are padded with 0's."
   ]
  },
  {
   "cell_type": "code",
   "execution_count": 15,
   "metadata": {},
   "outputs": [
    {
     "name": "stdout",
     "output_type": "stream",
     "text": [
      "[[ 378  189    8 ...    0    0    0]\n",
      " [ 605   28  605 ...    0    0    0]\n",
      " [2412  769 1646 ...    0    0    0]\n",
      " ...\n",
      " [  80 3481   30 ...    0    0    0]\n",
      " [  80  361    8 ...    0    0    0]\n",
      " [1972 1969  175 ...    0    0    0]]\n",
      "15472\n",
      "[[  1   1  42 ... 361  25 252]\n",
      " [  1   1  12 ...   0   0   0]\n",
      " [  1   1 268 ...   0   0   0]\n",
      " ...\n",
      " [  1   1   6 ...   0   0   0]\n",
      " [  1   1  76 ...   0   0   0]\n",
      " [  1   1 217 ...   0   0   0]]\n",
      "15472\n"
     ]
    }
   ],
   "source": [
    "max_text_len = 5000\n",
    "max_summary_len = 200\n",
    "x_train, x_test, y_train, y_test = train_test_split(text_overall, summary_overall, test_size=0.1, shuffle=True)\n",
    "tokenizer = Tokenizer()\n",
    "tokenizer.fit_on_texts(x_train)\n",
    "\n",
    "x_train = tokenizer.texts_to_sequences(x_train)\n",
    "x_test = tokenizer.texts_to_sequences(x_test)\n",
    "\n",
    "x_train = pad_sequences(x_train, maxlen=max_text_len, padding='post', truncating='post')\n",
    "x_test = pad_sequences(x_train, maxlen=max_text_len, padding='post', truncating='post')\n",
    "\n",
    "print(x_train[:10])\n",
    "x_voc_size = len(tokenizer.word_index)+1\n",
    "print(x_voc_size)\n",
    "\n",
    "y_tokenizer = Tokenizer()\n",
    "y_tokenizer.fit_on_texts(y_train)\n",
    "\n",
    "y_train = y_tokenizer.texts_to_sequences(y_train)\n",
    "y_test = y_tokenizer.texts_to_sequences(y_test)\n",
    "\n",
    "y_train = pad_sequences(y_train, maxlen=max_summary_len, padding='post', truncating='post')\n",
    "y_test = pad_sequences(y_train, maxlen=max_summary_len, padding='post', truncating='post')\n",
    "\n",
    "print(y_train[:10])\n",
    "y_voc_size = len(tokenizer.word_index)+1\n",
    "print(y_voc_size)"
   ]
  },
  {
   "cell_type": "markdown",
   "metadata": {},
   "source": [
    "## Save the preprocessed data to file"
   ]
  },
  {
   "cell_type": "code",
   "execution_count": 16,
   "metadata": {},
   "outputs": [],
   "source": [
    "np.savez('preprocessed', x_train=x_train, x_test=x_test, y_train=y_train,y_test=y_test, \n",
    "                             max_text_len=max_text_len, max_summary_len=max_summary_len, x_voc_size=x_voc_size, y_voc_size=y_voc_size)"
   ]
  },
  {
   "cell_type": "code",
   "execution_count": null,
   "metadata": {},
   "outputs": [],
   "source": []
  }
 ],
 "metadata": {
  "kernelspec": {
   "display_name": "CSE204",
   "language": "python",
   "name": "cse204"
  },
  "language_info": {
   "codemirror_mode": {
    "name": "ipython",
    "version": 3
   },
   "file_extension": ".py",
   "mimetype": "text/x-python",
   "name": "python",
   "nbconvert_exporter": "python",
   "pygments_lexer": "ipython3",
   "version": "3.8.5"
  },
  "orig_nbformat": 4
 },
 "nbformat": 4,
 "nbformat_minor": 2
}
